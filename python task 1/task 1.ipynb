{
 "cells": [
  {
   "cell_type": "code",
   "execution_count": 1,
   "id": "c7f9e51e",
   "metadata": {},
   "outputs": [
    {
     "name": "stdout",
     "output_type": "stream",
     "text": [
      "Hello from Jupyter\n"
     ]
    }
   ],
   "source": [
    "print('Hello from Jupyter')"
   ]
  },
  {
   "cell_type": "code",
   "execution_count": 2,
   "id": "76e1ea10",
   "metadata": {},
   "outputs": [
    {
     "name": "stdout",
     "output_type": "stream",
     "text": [
      "Hello\n",
      "16\n"
     ]
    }
   ],
   "source": [
    "my_str = 'Hello'\n",
    "my_int = 16\n",
    "\n",
    "print(my_str)\n",
    "print(my_int)"
   ]
  },
  {
   "cell_type": "code",
   "execution_count": 3,
   "id": "8f722371",
   "metadata": {},
   "outputs": [
    {
     "data": {
      "text/plain": [
       "'Hello'"
      ]
     },
     "execution_count": 3,
     "metadata": {},
     "output_type": "execute_result"
    }
   ],
   "source": [
    "my_str"
   ]
  },
  {
   "cell_type": "code",
   "execution_count": 4,
   "id": "71cd1e0f",
   "metadata": {},
   "outputs": [
    {
     "name": "stdout",
     "output_type": "stream",
     "text": [
      "You have many apples!\n"
     ]
    }
   ],
   "source": [
    "number_of_apples = 5\n",
    "\n",
    "if number_of_apples < 1:\n",
    "    print('You have no apples')\n",
    "elif number_of_apples == 1:\n",
    "    print('You have one apple')\n",
    "elif number_of_apples < 4:\n",
    "    print('You have a few apples')\n",
    "else:\n",
    "    print('You have many apples!')"
   ]
  },
  {
   "cell_type": "code",
   "execution_count": 5,
   "id": "441872e3",
   "metadata": {},
   "outputs": [
    {
     "data": {
      "text/plain": [
       "'Alice'"
      ]
     },
     "execution_count": 5,
     "metadata": {},
     "output_type": "execute_result"
    }
   ],
   "source": [
    "student_names = ['Alice', 'Bob', 'Carol', 'Dave']\n",
    "student_names[0]"
   ]
  },
  {
   "cell_type": "code",
   "execution_count": 6,
   "id": "18391f19",
   "metadata": {},
   "outputs": [
    {
     "data": {
      "text/plain": [
       "['Carol', 'Dave']"
      ]
     },
     "execution_count": 6,
     "metadata": {},
     "output_type": "execute_result"
    }
   ],
   "source": [
    "student_names[2:]\n"
   ]
  },
  {
   "cell_type": "code",
   "execution_count": 7,
   "id": "1539d9c8",
   "metadata": {},
   "outputs": [
    {
     "data": {
      "text/plain": [
       "['Alice', 'Bob', 'Carol', 'Dave', 'mostafa']"
      ]
     },
     "execution_count": 7,
     "metadata": {},
     "output_type": "execute_result"
    }
   ],
   "source": [
    "student_names.append('mostafa')\n",
    "student_names"
   ]
  },
  {
   "cell_type": "code",
   "execution_count": 8,
   "id": "50c4b21a",
   "metadata": {},
   "outputs": [
    {
     "data": {
      "text/plain": [
       "['sameer', 'Alice', 'Bob', 'Carol', 'Dave', 'mostafa']"
      ]
     },
     "execution_count": 8,
     "metadata": {},
     "output_type": "execute_result"
    }
   ],
   "source": [
    "student_names.insert(0, 'sameer')\n",
    "student_names"
   ]
  },
  {
   "cell_type": "code",
   "execution_count": 9,
   "id": "afcec5dd",
   "metadata": {},
   "outputs": [
    {
     "data": {
      "text/plain": [
       "['sameer', 'Alice', 'Carol', 'Dave', 'mostafa']"
      ]
     },
     "execution_count": 9,
     "metadata": {},
     "output_type": "execute_result"
    }
   ],
   "source": [
    "del student_names[2]\n",
    "student_names"
   ]
  },
  {
   "cell_type": "code",
   "execution_count": 10,
   "id": "e11e6eed",
   "metadata": {},
   "outputs": [
    {
     "name": "stdout",
     "output_type": "stream",
     "text": [
      "Hello sameer!\n",
      "Hello Alice!\n",
      "Hello Carol!\n",
      "Hello Dave!\n",
      "Hello mostafa!\n"
     ]
    }
   ],
   "source": [
    "for item in student_names:\n",
    "    print('Hello ' + item + '!')"
   ]
  },
  {
   "cell_type": "code",
   "execution_count": 12,
   "id": "5f249e0c",
   "metadata": {},
   "outputs": [
    {
     "data": {
      "text/plain": [
       "['sameer', 'Alice', 'Carol', 'mostafa']"
      ]
     },
     "execution_count": 12,
     "metadata": {},
     "output_type": "execute_result"
    }
   ],
   "source": [
    "long_names = []\n",
    "for item in student_names:\n",
    "    # This is our criterion\n",
    "    if len(item) > 4:\n",
    "        long_names.append(item)\n",
    "\n",
    "long_names"
   ]
  },
  {
   "cell_type": "code",
   "execution_count": 13,
   "id": "e3c04a43",
   "metadata": {},
   "outputs": [
    {
     "data": {
      "text/plain": [
       "[('sameer', 'sameer'),\n",
       " ('sameer', 'Alice'),\n",
       " ('sameer', 'Carol'),\n",
       " ('sameer', 'Dave'),\n",
       " ('sameer', 'mostafa'),\n",
       " ('Alice', 'sameer'),\n",
       " ('Alice', 'Alice'),\n",
       " ('Alice', 'Carol'),\n",
       " ('Alice', 'Dave'),\n",
       " ('Alice', 'mostafa'),\n",
       " ('Carol', 'sameer'),\n",
       " ('Carol', 'Alice'),\n",
       " ('Carol', 'Carol'),\n",
       " ('Carol', 'Dave'),\n",
       " ('Carol', 'mostafa'),\n",
       " ('Dave', 'sameer'),\n",
       " ('Dave', 'Alice'),\n",
       " ('Dave', 'Carol'),\n",
       " ('Dave', 'Dave'),\n",
       " ('Dave', 'mostafa'),\n",
       " ('mostafa', 'sameer'),\n",
       " ('mostafa', 'Alice'),\n",
       " ('mostafa', 'Carol'),\n",
       " ('mostafa', 'Dave'),\n",
       " ('mostafa', 'mostafa')]"
      ]
     },
     "execution_count": 13,
     "metadata": {},
     "output_type": "execute_result"
    }
   ],
   "source": [
    "student_pairs = []\n",
    "for student_name_0 in student_names:\n",
    "    for student_name_1 in student_names:\n",
    "        student_pairs.append(\n",
    "            (student_name_0, student_name_1)\n",
    "        )\n",
    "\n",
    "student_pairs"
   ]
  },
  {
   "cell_type": "code",
   "execution_count": 14,
   "id": "45aef991",
   "metadata": {},
   "outputs": [
    {
     "data": {
      "text/plain": [
       "[('sameer', 'Alice'),\n",
       " ('sameer', 'Carol'),\n",
       " ('sameer', 'Dave'),\n",
       " ('sameer', 'mostafa'),\n",
       " ('Alice', 'sameer'),\n",
       " ('Alice', 'Carol'),\n",
       " ('Alice', 'Dave'),\n",
       " ('Alice', 'mostafa'),\n",
       " ('Carol', 'sameer'),\n",
       " ('Carol', 'Alice'),\n",
       " ('Carol', 'Dave'),\n",
       " ('Carol', 'mostafa'),\n",
       " ('Dave', 'sameer'),\n",
       " ('Dave', 'Alice'),\n",
       " ('Dave', 'Carol'),\n",
       " ('Dave', 'mostafa'),\n",
       " ('mostafa', 'sameer'),\n",
       " ('mostafa', 'Alice'),\n",
       " ('mostafa', 'Carol'),\n",
       " ('mostafa', 'Dave')]"
      ]
     },
     "execution_count": 14,
     "metadata": {},
     "output_type": "execute_result"
    }
   ],
   "source": [
    "student_pairs = []\n",
    "for student_name_0 in student_names:\n",
    "    for student_name_1 in student_names:\n",
    "        # This is the criterion we added\n",
    "        if student_name_0 != student_name_1:\n",
    "            student_pairs.append(\n",
    "                (student_name_0, student_name_1)\n",
    "            )\n",
    "\n",
    "student_pairs"
   ]
  },
  {
   "cell_type": "code",
   "execution_count": 15,
   "id": "75738d72",
   "metadata": {},
   "outputs": [
    {
     "data": {
      "text/plain": [
       "'Italian'"
      ]
     },
     "execution_count": 15,
     "metadata": {},
     "output_type": "execute_result"
    }
   ],
   "source": [
    "foreign_languages = {\n",
    "    'Alice': 'Spanish',\n",
    "    'Bob': 'French',\n",
    "    'Carol': 'Italian',\n",
    "    'Dave': 'Italian',\n",
    "}\n",
    "foreign_languages['Carol']"
   ]
  },
  {
   "cell_type": "code",
   "execution_count": 16,
   "id": "d87dc54e",
   "metadata": {},
   "outputs": [
    {
     "data": {
      "text/plain": [
       "False"
      ]
     },
     "execution_count": 16,
     "metadata": {},
     "output_type": "execute_result"
    }
   ],
   "source": [
    "'Zeke' in foreign_languages"
   ]
  },
  {
   "cell_type": "code",
   "execution_count": 17,
   "id": "54b42f93",
   "metadata": {},
   "outputs": [
    {
     "data": {
      "text/plain": [
       "True"
      ]
     },
     "execution_count": 17,
     "metadata": {},
     "output_type": "execute_result"
    }
   ],
   "source": [
    "'Alice' in foreign_languages"
   ]
  },
  {
   "cell_type": "code",
   "execution_count": 18,
   "id": "0bf229e1",
   "metadata": {},
   "outputs": [
    {
     "data": {
      "text/plain": [
       "{'Alice': 'Spanish',\n",
       " 'Bob': 'French',\n",
       " 'Carol': 'Italian',\n",
       " 'Dave': 'Italian',\n",
       " 'Esther': 'French'}"
      ]
     },
     "execution_count": 18,
     "metadata": {},
     "output_type": "execute_result"
    }
   ],
   "source": [
    "# Add an entry that doesn't exist\n",
    "foreign_languages['Esther'] = 'French'\n",
    "foreign_languages"
   ]
  },
  {
   "cell_type": "code",
   "execution_count": 19,
   "id": "3a883e9d",
   "metadata": {},
   "outputs": [
    {
     "data": {
      "text/plain": [
       "{'Alice': 'Spanish', 'Carol': 'Italian', 'Dave': 'Italian', 'Esther': 'French'}"
      ]
     },
     "execution_count": 19,
     "metadata": {},
     "output_type": "execute_result"
    }
   ],
   "source": [
    "del foreign_languages['Bob']\n",
    "foreign_languages"
   ]
  },
  {
   "cell_type": "code",
   "execution_count": 20,
   "id": "04d4cf37",
   "metadata": {},
   "outputs": [
    {
     "data": {
      "text/plain": [
       "{'Alice': 'Spanish',\n",
       " 'Carol': 'Italian',\n",
       " 'Dave': 'Italian',\n",
       " 'Esther': 'Italian'}"
      ]
     },
     "execution_count": 20,
     "metadata": {},
     "output_type": "execute_result"
    }
   ],
   "source": [
    "# Change an entry that does exist\n",
    "foreign_languages['Esther'] = 'Italian'\n",
    "foreign_languages"
   ]
  },
  {
   "cell_type": "code",
   "execution_count": 21,
   "id": "8896ee2a",
   "metadata": {},
   "outputs": [
    {
     "name": "stdout",
     "output_type": "stream",
     "text": [
      "Alice is taking Spanish\n",
      "Carol is taking Italian\n",
      "Dave is taking Italian\n",
      "Esther is taking Italian\n"
     ]
    }
   ],
   "source": [
    "for key in foreign_languages:\n",
    "    value = foreign_languages[key]\n",
    "    print(key, 'is taking', value)"
   ]
  },
  {
   "cell_type": "code",
   "execution_count": 22,
   "id": "1b002ec0",
   "metadata": {},
   "outputs": [
    {
     "name": "stdout",
     "output_type": "stream",
     "text": [
      "Alice is taking Spanish\n",
      "Carol is taking Italian\n",
      "Dave is taking Italian\n",
      "Esther is taking Italian\n"
     ]
    }
   ],
   "source": [
    "for key, value in foreign_languages.items():\n",
    "    print(key, 'is taking', value)"
   ]
  },
  {
   "cell_type": "code",
   "execution_count": 29,
   "id": "c7545902",
   "metadata": {},
   "outputs": [
    {
     "name": "stdout",
     "output_type": "stream",
     "text": [
      "Alice got a grade of A in Spanish\n"
     ]
    }
   ],
   "source": [
    "record = {\n",
    "    'name': 'Alice',\n",
    "    'subject': 'Spanish',\n",
    "    'grade': 'A',\n",
    "}\n",
    "print(record['name'],\n",
    "      'got a grade of', record['grade'],\n",
    "      'in', record['subject'])"
   ]
  },
  {
   "cell_type": "code",
   "execution_count": 30,
   "id": "ae23c20d",
   "metadata": {},
   "outputs": [],
   "source": [
    "student_grades = [\n",
    "    ('Alice', 'Spanish', 'A'),\n",
    "    ('Bob', 'French', 'C'),\n",
    "    ('Carol', 'Italian', 'B+'),\n",
    "    ('Dave', 'Italian', 'A-'),\n",
    "]"
   ]
  },
  {
   "cell_type": "code",
   "execution_count": 32,
   "id": "5cb047b9",
   "metadata": {},
   "outputs": [
    {
     "data": {
      "text/plain": [
       "('Bob', 'French', 'C')"
      ]
     },
     "execution_count": 32,
     "metadata": {},
     "output_type": "execute_result"
    }
   ],
   "source": [
    "student_grades[1]\n"
   ]
  },
  {
   "cell_type": "code",
   "execution_count": 33,
   "id": "f249d827",
   "metadata": {},
   "outputs": [
    {
     "data": {
      "text/plain": [
       "[{'name': 'Alice', 'subject': 'Spanish', 'grade': 'A'},\n",
       " {'name': 'Bob', 'subject': 'French', 'grade': 'C'},\n",
       " {'name': 'Carol', 'subject': 'Italian', 'grade': 'B+'},\n",
       " {'name': 'Dave', 'subject': 'Italian', 'grade': 'A-'}]"
      ]
     },
     "execution_count": 33,
     "metadata": {},
     "output_type": "execute_result"
    }
   ],
   "source": [
    "student_grade_records = []\n",
    "for student_name, subject, grade in student_grades:\n",
    "    record = {\n",
    "        'name': student_name,\n",
    "        'subject': subject,\n",
    "        'grade': grade,\n",
    "    }\n",
    "    student_grade_records.append(record)\n",
    "    \n",
    "student_grade_records"
   ]
  },
  {
   "cell_type": "code",
   "execution_count": 34,
   "id": "9514d099",
   "metadata": {},
   "outputs": [
    {
     "data": {
      "text/plain": [
       "{'name': 'Bob', 'subject': 'French', 'grade': 'C'}"
      ]
     },
     "execution_count": 34,
     "metadata": {},
     "output_type": "execute_result"
    }
   ],
   "source": [
    "student_grade_records[1]"
   ]
  },
  {
   "cell_type": "code",
   "execution_count": 35,
   "id": "8fbc7cfa",
   "metadata": {},
   "outputs": [
    {
     "data": {
      "text/plain": [
       "{'Alice': {'subject': 'Spanish', 'grade': 'A'},\n",
       " 'Bob': {'subject': 'French', 'grade': 'C'},\n",
       " 'Carol': {'subject': 'Italian', 'grade': 'B+'},\n",
       " 'Dave': {'subject': 'Italian', 'grade': 'A-'}}"
      ]
     },
     "execution_count": 35,
     "metadata": {},
     "output_type": "execute_result"
    }
   ],
   "source": [
    "foreign_language_grades = {}\n",
    "for student_name, subject, grade in student_grades:\n",
    "    record = {\n",
    "        'subject': subject,\n",
    "        'grade': grade,\n",
    "    }\n",
    "    foreign_language_grades[student_name] = record\n",
    "    \n",
    "foreign_language_grades"
   ]
  },
  {
   "cell_type": "code",
   "execution_count": 36,
   "id": "9ff85d27",
   "metadata": {},
   "outputs": [
    {
     "data": {
      "text/plain": [
       "{'subject': 'Spanish', 'grade': 'A'}"
      ]
     },
     "execution_count": 36,
     "metadata": {},
     "output_type": "execute_result"
    }
   ],
   "source": [
    "foreign_language_grades['Alice']\n"
   ]
  },
  {
   "cell_type": "code",
   "execution_count": 37,
   "id": "8faa2d6b",
   "metadata": {},
   "outputs": [
    {
     "data": {
      "text/plain": [
       "'A'"
      ]
     },
     "execution_count": 37,
     "metadata": {},
     "output_type": "execute_result"
    }
   ],
   "source": [
    "foreign_language_grades['Alice']['grade']"
   ]
  },
  {
   "cell_type": "code",
   "execution_count": 38,
   "id": "0abf5fc5",
   "metadata": {},
   "outputs": [
    {
     "data": {
      "text/plain": [
       "{('Alice', 'Spanish'): 'A',\n",
       " ('Bob', 'French'): 'C',\n",
       " ('Carol', 'Italian'): 'B+',\n",
       " ('Dave', 'Italian'): 'A-'}"
      ]
     },
     "execution_count": 38,
     "metadata": {},
     "output_type": "execute_result"
    }
   ],
   "source": [
    "student_course_grades = {}\n",
    "for student_name, subject, grade in student_grades:\n",
    "    student_course_grades[student_name, subject] = grade\n",
    "    \n",
    "student_course_grades"
   ]
  },
  {
   "cell_type": "code",
   "execution_count": 39,
   "id": "15e10cf4",
   "metadata": {},
   "outputs": [],
   "source": [
    "student_course_grades['Alice', 'Math'] = 'A'\n",
    "student_course_grades['Alice', 'History'] = 'B'"
   ]
  },
  {
   "cell_type": "code",
   "execution_count": 40,
   "id": "1b0c0fc7",
   "metadata": {},
   "outputs": [
    {
     "data": {
      "text/plain": [
       "{('Alice', 'Spanish'): 'A',\n",
       " ('Bob', 'French'): 'C',\n",
       " ('Carol', 'Italian'): 'B+',\n",
       " ('Dave', 'Italian'): 'A-',\n",
       " ('Alice', 'Math'): 'A',\n",
       " ('Alice', 'History'): 'B'}"
      ]
     },
     "execution_count": 40,
     "metadata": {},
     "output_type": "execute_result"
    }
   ],
   "source": [
    "student_course_grades"
   ]
  },
  {
   "cell_type": "code",
   "execution_count": 41,
   "id": "d8c39e85",
   "metadata": {},
   "outputs": [],
   "source": [
    "student_report_cards = {}\n",
    "for student_name, subject, grade in student_grades:\n",
    "    # If there is no report card for a student,\n",
    "    # we need to create a blank one\n",
    "    if student_name not in student_report_cards:\n",
    "        student_report_cards[student_name] = {}\n",
    "    student_report_cards[student_name][subject] = grade"
   ]
  },
  {
   "cell_type": "code",
   "execution_count": 42,
   "id": "fc5f249c",
   "metadata": {},
   "outputs": [
    {
     "data": {
      "text/plain": [
       "{'Alice': {'Spanish': 'A'},\n",
       " 'Bob': {'French': 'C'},\n",
       " 'Carol': {'Italian': 'B+'},\n",
       " 'Dave': {'Italian': 'A-'}}"
      ]
     },
     "execution_count": 42,
     "metadata": {},
     "output_type": "execute_result"
    }
   ],
   "source": [
    "student_report_cards"
   ]
  },
  {
   "cell_type": "code",
   "execution_count": 43,
   "id": "83ebfdd4",
   "metadata": {},
   "outputs": [],
   "source": [
    "student_report_cards['Alice']['Math'] = 'A'\n",
    "student_report_cards['Alice']['History'] = 'B'"
   ]
  },
  {
   "cell_type": "code",
   "execution_count": 44,
   "id": "cd05c777",
   "metadata": {},
   "outputs": [
    {
     "data": {
      "text/plain": [
       "{'Alice': {'Spanish': 'A', 'Math': 'A', 'History': 'B'},\n",
       " 'Bob': {'French': 'C'},\n",
       " 'Carol': {'Italian': 'B+'},\n",
       " 'Dave': {'Italian': 'A-'}}"
      ]
     },
     "execution_count": 44,
     "metadata": {},
     "output_type": "execute_result"
    }
   ],
   "source": [
    "student_report_cards"
   ]
  },
  {
   "cell_type": "code",
   "execution_count": 45,
   "id": "d2527d8a",
   "metadata": {},
   "outputs": [
    {
     "data": {
      "text/plain": [
       "{'Spanish': 'A', 'Math': 'A', 'History': 'B'}"
      ]
     },
     "execution_count": 45,
     "metadata": {},
     "output_type": "execute_result"
    }
   ],
   "source": [
    "student_report_cards['Alice']"
   ]
  }
 ],
 "metadata": {
  "kernelspec": {
   "display_name": "Python 3 (ipykernel)",
   "language": "python",
   "name": "python3"
  },
  "language_info": {
   "codemirror_mode": {
    "name": "ipython",
    "version": 3
   },
   "file_extension": ".py",
   "mimetype": "text/x-python",
   "name": "python",
   "nbconvert_exporter": "python",
   "pygments_lexer": "ipython3",
   "version": "3.9.7"
  }
 },
 "nbformat": 4,
 "nbformat_minor": 5
}
