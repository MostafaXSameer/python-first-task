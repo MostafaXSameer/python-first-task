{
 "cells": [
  {
   "cell_type": "code",
   "execution_count": 4,
   "id": "5c431607",
   "metadata": {
    "scrolled": true
   },
   "outputs": [
    {
     "name": "stdout",
     "output_type": "stream",
     "text": [
      "['b', 'c']\n"
     ]
    },
    {
     "data": {
      "image/png": "[encoded data removed]",
      "text/plain": [
       "<Figure size 432x288 with 1 Axes>"
      ]
     },
     "metadata": {},
     "output_type": "display_data"
    }
   ],
   "source": [
    "def get_leaves(G):\n",
    "    leaves=[]\n",
    "    for node in G.nodes:\n",
    "        if G.degree(node)==1:\n",
    "            leaves.append(node)\n",
    "    return leaves        \n",
    "G1 = nx.Graph()\n",
    "G1.add_edges_from([('a', 'b'),('a', 'd'),('c', 'd')])\n",
    "nx.draw(G1, with_labels=True)\n",
    "\n",
    "leaves=get_leaves(G1)\n",
    "print(leaves)"
   ]
  },
  {
   "cell_type": "code",
   "execution_count": 13,
   "id": "ff4dbcb6",
   "metadata": {},
   "outputs": [
    {
     "data": {
      "text/plain": [
       "'Claire : 4'"
      ]
     },
     "execution_count": 13,
     "metadata": {},
     "output_type": "execute_result"
    }
   ],
   "source": [
    "def max_degree(G):\n",
    "    count=0\n",
    "    mx=''\n",
    "    for node in G.nodes:\n",
    "        if G.degree(node)>count:\n",
    "            count=G.degree(node)\n",
    "            mx='{} : {}'.format(node, count)\n",
    "    return mx\n",
    "SG = nx.read_adjlist('friends.adjlist')\n",
    "max_degree(SG)"
   ]
  },
  {
   "cell_type": "code",
   "execution_count": 28,
   "id": "ccb3e0e4",
   "metadata": {},
   "outputs": [
    {
     "name": "stdout",
     "output_type": "stream",
     "text": [
      "['Frank']\n",
      "[]\n",
      "['Dennis', 'Frank']\n"
     ]
    }
   ],
   "source": [
    "def mutual_friends(G, no_1, no_2):\n",
    "    mutual=[]\n",
    "    node_1=list(G.neighbors(no_1))\n",
    "    node_2=list(G.neighbors(no_2))\n",
    "    for i in node_1:\n",
    "        if i in node_2:\n",
    "            mutual.append(i)\n",
    "    return mutual\n",
    "\n",
    "print (mutual_friends(SG, 'Alice', 'Claire'))\n",
    "print (mutual_friends(SG, 'George', 'Bob'))\n",
    "print (sorted(mutual_friends(SG, 'Claire', 'George')))"
   ]
  }
 ],
 "metadata": {
  "kernelspec": {
   "display_name": "Python 3 (ipykernel)",
   "language": "python",
   "name": "python3"
  },
  "language_info": {
   "codemirror_mode": {
    "name": "ipython",
    "version": 3
   },
   "file_extension": ".py",
   "mimetype": "text/x-python",
   "name": "python",
   "nbconvert_exporter": "python",
   "pygments_lexer": "ipython3",
   "version": "3.9.7"
  }
 },
 "nbformat": 4,
 "nbformat_minor": 5
}
